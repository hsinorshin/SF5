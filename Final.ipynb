{
 "cells": [
  {
   "cell_type": "markdown",
   "metadata": {},
   "source": [
    "## Modelling Independent Cascade Model in a Undirected Scale Free Network \n",
    "\n",
    "A scale free network has a few nodes that are highly connected to other nodes in the network. The presence of such nodes with a much higher degree than most other nodes will give the degree distribution a long tail. A scale-free network is one with a power-law degree distribution. For an undirected network.\n",
    "\n",
    "$$P_{deg}(k) \\propto k^{-\\gamma}$$\n",
    "\n",
    "One can recognize that a degree distribution has a power-law form by plotting it on a log-log scale. As shown in the above scatter plot, the points will tend to fall along a line.\n",
    "\n",
    "Several natural and human-made systems, including the internet, the world wide web, citation networks, and some social networks are thought to be approximately scale-free. \n",
    "\n",
    "Information cascade is a phenomenon in which a number of people make the same decision in a sequantial information. We can generally accept this as a two-step process. First, an individual encounters a scenario with a decision (binary). Second, the decision is influenced by the individual observing others' choice and the apprarent outcomes. There are several information cascade models.\n",
    "\n",
    "We choose to investigate the Independence Cascade Model(ICM) of Information Diffusion. Node can have three states :\n",
    "- Inactive - node unaware of information orYb not influenced\n",
    "- Active - Node already influenced by information in diffusion\n",
    "- Actived - nodes activated other nodes at prev round, but can not activate other nodes anymore.\n",
    "\n",
    "The process runs in discrete steps. At the beginning of ICM process, few nodes are given the information known as seed nodes. Upon receiving the information these nodes become active. In each discrete step, an active node tries to influence one of its inactive neighbors. In spite of its success, the same node will never get another chance to activate the same inactive neighbor. The success depends on the propagation probability of their tie. Propagation Probability of a tie is the probability by which one can influence the other node. \n",
    "\n",
    "The process terminates when no further nodes became activated from inactive state.\n",
    "\n",
    "We set the propagation probability to be \n",
    "\n",
    "$$p_{ij} = \\frac{q}{k_j}$$\n",
    "\n",
    "Where $j$ is the target node and $i$ is the active node. $q$ is the threshold, a hyper parameter.\n",
    "\n",
    "# The goal - Influence Maximization\n",
    "\n",
    "Similar to marketing or broadcasting in the real world. We can choose better seeds that result in a higher number of ultimate active nodes.\n",
    "\n",
    "Here are some selection policies we will consider:\n",
    "\n",
    "i. Random\n",
    "ii. Degree\n",
    "iii. Fixed degree \n",
    "iv. Friend degree\n",
    "v. Fixed friend degree \n",
    "\n",
    "Fixed degree : Using degree ranking has a proble. If we pick a node with high degree but a fraction of its neighbours are actived, these nodes will no longer be considered any more. So the effective degree of the node is actually lower. To fix this, update nodes' (effective) degree after each selection, i.e. after selecting one node as a seed, update the degree its neighbours with -1 to make sure those nodes don't consider this seed anymore.\n",
    "\n",
    "This helps avoid local seeds gathering.\n",
    "\n",
    "Neighbour degree : Select seed by nodes' centrality score. \n",
    "$$ C_{i} = k_{i} + \\sum_{j}k_{j}A_{ij}$$\n",
    "\n",
    "Bonus : Homophily - popular nodes befriending each other. \n",
    "\n",
    "[Scale-free network] https://mathinsight.org/scale_free_network\n",
    "\n",
    "[Building scale-free/Barabasi-Albert Network] https://github.com/AlxndrMlk/Barabasi-Albert_Network\n",
    "\n",
    "[How to Code Independent Cascade Model of Information Diffusion] http://home.iitj.ac.in/~suman/articles/detail/how-to-code-independent-cascade-model-of-information-diffusion/#:~:text=Independent%20Cascade%20Model%20(ICM)%20is,by%20the%20information%20in%20diffusion.\n",
    "\n",
    "[Python implementation of ICM & Selection Policies] https://github.com/cbhua/independent-cascade?tab=readme-ov-file"
   ]
  },
  {
   "cell_type": "markdown",
   "metadata": {},
   "source": [
    "# 1 : Implementing Scale-free Network\n",
    "\n",
    "Keep it constant. Number of nodes n = 10,000. Power-law exponent $\\gamma = 2$."
   ]
  },
  {
   "cell_type": "code",
   "execution_count": null,
   "metadata": {},
   "outputs": [],
   "source": []
  }
 ],
 "metadata": {
  "kernelspec": {
   "display_name": "Python 3",
   "language": "python",
   "name": "python3"
  },
  "language_info": {
   "codemirror_mode": {
    "name": "ipython",
    "version": 3
   },
   "file_extension": ".py",
   "mimetype": "text/x-python",
   "name": "python",
   "nbconvert_exporter": "python",
   "pygments_lexer": "ipython3",
   "version": "3.9.7"
  }
 },
 "nbformat": 4,
 "nbformat_minor": 2
}
