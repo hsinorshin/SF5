{
 "cells": [
  {
   "cell_type": "markdown",
   "metadata": {},
   "source": [
    "## Week 3 : SIR Process\n",
    "\n",
    "Imagine a disease.\n",
    "Nodes are in 3 states, S/I/R\n",
    "When a node is I, they will remain I for 1 week and then be R.\n",
    "When a node is I, they will cause their adjacent nodes to be I with probability $\\lambda$, independently.\n",
    "A person who is R will no longer partake in any dynamic process.\n",
    "\n",
    "To start the outbreak, define an initial condition. \n",
    "Almost all the nodes are S, a small fraction of nodes chosen uniformly at random, begin as I. \n",
    "\n",
    "Terminal state is when we only have nodes of S/R and no I left. \n",
    "\n",
    "Assumptions:\n",
    "\n",
    "We assume no one is added to S group, the only way a node leaves the S group is by becoming I.\n",
    "Assumed a fixed fraction k of the infected group will recover during any given day. In this case since duration of infection is 3 days then $\\frac{1}{7}$.\n",
    "\n",
    "Differential Relationships : https://maa.org/press/periodicals/loci/joma/the-sir-model-for-spread-of-disease-the-differential-equation-model\n",
    "\n",
    "Implementing in Python : https://pythonhosted.org/epydemic/sir.html#:~:text=The%20Susceptible%2DInfected%2DRemoved%20compartmented,Kermack%20and%20McKendrick%20in%201927."
   ]
  },
  {
   "cell_type": "markdown",
   "metadata": {},
   "source": [
    "# Q1\n",
    "\n",
    "Generating model with nodes $n$ and mean $k$ : \n",
    "\n",
    "Motivation for the Configuration Model over the Random Model\n",
    "\n",
    "The configuration model is a model in which the degrees of vertices are fixed beforehand. Such a model is more flexible than the generalized random graph. For example, the generalized random graph always has a positive proportion of vertices of degree 0, 1, 2, etc. (see Exercises 6.15–6.16). In some real-world networks, however, it is natural to investigate graphs where every vertex has at least one or two neighbors.\n",
    "\n",
    "For various $\\lambda$ values, run until only S/R state are left. "
   ]
  },
  {
   "cell_type": "code",
   "execution_count": 1,
   "metadata": {},
   "outputs": [],
   "source": [
    "import numpy as np\n",
    "import scipy.stats as scistats"
   ]
  },
  {
   "cell_type": "code",
   "execution_count": 12,
   "metadata": {},
   "outputs": [],
   "source": [
    "class Network():\n",
    "\n",
    "    def __init__(self, num_nodes) -> None:\n",
    "        self.state =['S' for _ in range(num_nodes)]\n",
    "        self.adj = {i:set() for i in range(num_nodes)}\n",
    "        self.num_edge = 0 \n",
    "        self.susceptible = set([i for i in range(num_nodes)])\n",
    "        self.infectious = set()\n",
    "        self.recovered = set()\n",
    "\n",
    "    def add_edge(self,i,j):\n",
    "        self.adj[i].add(j)\n",
    "        self.adj[j].add(i)\n",
    "        self.num_edge+=1\n",
    "\n",
    "    def edge_list(self):\n",
    "        return [(i,j) for i in self.adj for j in self.adj[i] if i<j]\n",
    "    \n",
    "    def infect(self,i):\n",
    "        self.state[i] = 'I'\n",
    "        self.infectious.add(i)\n",
    "        self.susceptible.remove(i)\n",
    "\n",
    "    def remove(self,i):\n",
    "        self.state[i] = 'R'\n",
    "        self.recovered.add(i)\n",
    "        self.infectious.remove(i)\n",
    "\n",
    "    "
   ]
  },
  {
   "cell_type": "code",
   "execution_count": 21,
   "metadata": {},
   "outputs": [],
   "source": [
    "class Poisson_Network(Network):\n",
    "\n",
    "    def __init__(self, num_nodes, mean, p_infected, p_infect) -> None:\n",
    "        super().__init__(num_nodes)\n",
    "\n",
    "        self.p_infect = p_infect\n",
    "\n",
    "        k = np.random.poisson(lam=mean,size=num_nodes)\n",
    "\n",
    "        S = np.array([i for i in range(num_nodes) for _ in range(k[i])])\n",
    "        S = np.random.permutation(S)\n",
    "        \n",
    "        if len(S)%2:\n",
    "            S = S[:-1]\n",
    "\n",
    "        S = S.reshape(-1,2)\n",
    "\n",
    "        for i,j in S:\n",
    "            if i!=j and i not in self.adj[j]:\n",
    "                self.add_edge(i,j)\n",
    "\n",
    "        self.infected = np.random.randint(0,num_nodes,size = int(p_infected*num_nodes))\n",
    "\n",
    "        for i in self.infected:\n",
    "            if self.state[i]=='S':\n",
    "                self.infect(i)\n",
    "\n",
    "    def run(self):\n",
    "        '''Runs simulation for a cycle, returns SIR value at end of cycle'''\n",
    "        curr = list(self.infectious)\n",
    "        for i in curr:\n",
    "            for adj in self.adj[i]:\n",
    "                if self.state[adj] == 'S':\n",
    "                    outcome = np.random.binomial(1,self.p_infect)\n",
    "                    if outcome: \n",
    "                        self.infect(adj)\n",
    "                        \n",
    "            self.remove(i)\n",
    "\n",
    "        return len(self.susceptible), len(self.infectious), len(self.recovered)   \n",
    "\n",
    "\n",
    "    def run_to_extinction(self):\n",
    "        '''Runs simulation until only S/R state is left'''\n",
    "\n",
    "        while self.infectious:\n",
    "            i = self.infectious.pop()\n",
    "            for adj in self.adj[i]:\n",
    "                if self.state[adj] == 'S':\n",
    "                    outcome = np.random.binomial(1,self.p_infect)\n",
    "                    if outcome: \n",
    "                        self.infect(adj)\n",
    "            self.recovered.add(i)\n",
    "\n",
    "        return len(self.susceptible), len(self.infectious), len(self.recovered)   "
   ]
  },
  {
   "cell_type": "code",
   "execution_count": null,
   "metadata": {},
   "outputs": [],
   "source": []
  },
  {
   "cell_type": "code",
   "execution_count": 24,
   "metadata": {},
   "outputs": [
    {
     "name": "stdout",
     "output_type": "stream",
     "text": [
      "9294 606 100\n",
      "6396 2898 706\n",
      "1178 5218 3604\n",
      "45 1133 8822\n",
      "21 24 9955\n",
      "21 0 9979\n"
     ]
    }
   ],
   "source": [
    "n = 10000\n",
    "mean = 20 \n",
    "p_infectious_array = np.lin"
   ]
  },
  {
   "cell_type": "code",
   "execution_count": null,
   "metadata": {},
   "outputs": [],
   "source": []
  }
 ],
 "metadata": {
  "kernelspec": {
   "display_name": "Python 3",
   "language": "python",
   "name": "python3"
  },
  "language_info": {
   "codemirror_mode": {
    "name": "ipython",
    "version": 3
   },
   "file_extension": ".py",
   "mimetype": "text/x-python",
   "name": "python",
   "nbconvert_exporter": "python",
   "pygments_lexer": "ipython3",
   "version": "3.9.7"
  }
 },
 "nbformat": 4,
 "nbformat_minor": 2
}
